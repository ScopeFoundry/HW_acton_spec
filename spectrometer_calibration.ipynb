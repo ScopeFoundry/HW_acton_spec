{
 "cells": [
  {
   "cell_type": "markdown",
   "metadata": {
    "collapsed": true
   },
   "source": [
    "# Calibration Procedure\n",
    "\n",
    "* Compute center offset:\n",
    " - Set $\\lambda_{\\rm center}$ to set of known spectral lines\n",
    " - Measure pixel position of each: \n",
    " - average each to determine central pixel $n_o$\n",
    " \n",
    "|   $\\lambda_{\\rm center}$ | Pixel |           \n",
    "| ----------------------:  |:------:|\n",
    "| 0   nm                   | 5.2 | \n",
    "| 445 nm                   | 6.22      |  \n",
    "| 901 nm                   | 3.1      | \n",
    "\n",
    "\n",
    " \n",
    "* Compute spectrometer calibration angles/length ($\\ f_L, \\delta, \\gamma$)\n",
    " * Move known spectral line $\\lambda_o$ to left and right sides of detector\n",
    " * record $\\lambda_{\\rm center}$ and pixel position for each \n",
    " * Compute best fit of $\\ f_{\\rm calib}$\n",
    "\n",
    "\n",
    "| $\\lambda_o$   | Side | $\\lambda_{\\rm center}$| Pixel  |\n",
    "| ------------- | ---- |:----------------------|-------:|\n",
    "| 809.4 nm      | R    |729.4910 nm            |508     |\n",
    "| 809.4 nm      | L    |899.5830 nm            |  4     |\n",
    "| ...           | ...  | ...                   |...     |\n",
    "\n"
   ]
  },
  {
   "cell_type": "markdown",
   "metadata": {},
   "source": [
    "# Optimization Function\n",
    "\n",
    "Optimize for 3 parameters:\n",
    " * $f_L$: Focal length of spectrometer\n",
    " * $\\delta$: Detector angle (The angle of the image plane relative to the plane perpendicular to the spectrograph focal axis at the center of the image plane)\n",
    " * $\\gamma$: inclusion angle\n",
    "\n",
    "from experiment:\n",
    " * $n =  n_{px} - n_o$: Pixel from central pixel\n",
    " * $\\lambda_{\\rm center}$: Wavelength of center pixel \n",
    " * $\\lambda_p$: Wavelength of pixel $n$\n",
    " \n",
    "Fixed Constants:\n",
    " * $m$: Diffraction order (typically one)\n",
    " * $x_{\\rm pixel}$: pixel size\n",
    " * $d_{grating}$: Grating pitch (1/(groves / mm))\n",
    "    \n",
    "residual: (wl,  wl_p, n, f, delta,gamma)\n",
    "\n",
    "We measure pixel position ($n$) of a known wavelength ($\\lambda_p$) for multple peaks and spectrometer positions and find the best fit parameters $\\ f_L, \\delta, \\gamma$:\n",
    "\n",
    "$$ \\lambda_p = f_{\\rm calib} ( n,  \\lambda_{\\rm center}, \n",
    "    \\underbrace{m, x_{\\rm pixel}, d_{\\rm grating}}_{\\rm spec\\ params}, \n",
    "    \\overbrace{f_L,\\ \\ \\delta,\\ \\ \\gamma}^{\\rm Calibration\\ params} ) $$\n",
    "\n",
    "$$ \\lambda_p = \\frac{d}{m} \\cdot \\left[ \\sin( \\psi - \\frac{\\gamma}{2}) + \\sin(\\psi+\\frac{\\gamma}{2} + \\eta) \\right]$$\n",
    "\n",
    "Where\n",
    "\n",
    "$$ \\psi = \\arcsin \\left[ \\frac{ m\\ \\lambda_{\\rm center} } { 2\\ d_{\\rm grating} \\cos(\\frac{\\gamma}{2})} \\right] $$\n",
    "\n",
    "$$ \\eta = \\arctan \\left[ \\frac{ n\\ x_{pixel} \\cos{\\delta}} {f_L + n\\ x_{pixel} \\sin(\\delta)} \\right]$$\n",
    "\n",
    "$$n =  n_{px} - n_o$$\n",
    "\n"
   ]
  },
  {
   "cell_type": "code",
   "execution_count": 2,
   "metadata": {
    "collapsed": false
   },
   "outputs": [],
   "source": [
    "from __future__ import division\n",
    "import numpy as np\n",
    "import pylab as pl\n",
    "from pprint import pprint\n",
    "\n",
    "%matplotlib inline"
   ]
  },
  {
   "cell_type": "code",
   "execution_count": 1,
   "metadata": {
    "collapsed": true
   },
   "outputs": [],
   "source": [
    "def wl_p_calib(px, n0, wl_center, m_order, d_grating, x_pixel, f, delta, gamma):\n",
    "    #consts\n",
    "    #d_grating = 1./150. #mm\n",
    "    #x_pixel   = 16e-3 # mm\n",
    "    #m_order   = 1 # diffraction order, unitless\n",
    "    n = px - n0\n",
    "\n",
    "    psi = np.arcsin( m_order* wl_center / (2*d_grating*np.cos(gamma/2)))\n",
    "    eta = np.arctan(n*x_pixel*np.cos(delta) / (f+n*x_pixel*np.sin(delta)))\n",
    "\n",
    "    return ((d_grating/m_order)\n",
    "                    *(np.sin(psi-0.5*gamma)\n",
    "                      + np.sin(psi+0.5*gamma+eta)))"
   ]
  },
  {
   "cell_type": "code",
   "execution_count": 3,
   "metadata": {
    "collapsed": true
   },
   "outputs": [],
   "source": [
    "from scipy.optimize import least_squares\n",
    "\n",
    "def fit_residual(\n",
    "                # optimization parameters\n",
    "                (f, delta, gamma,), \n",
    "                # other params and data\n",
    "                px, n0, wl_center, m_order, d_grating, x_pixel,\n",
    "                wl_actual\n",
    "                ):\n",
    "    \n",
    "    wl_model = wl_p_calib(px, n0, wl_center, m_order, d_grating, x_pixel, f, delta, gamma)\n",
    "    return wl_model - wl_actual\n",
    "    \n",
    "initial_guess = (300, 0, 0)\n",
    "\n",
    "kwargs = dict(\n",
    "    px=A, \n",
    "    n0=256,\n",
    "    wl_center=A,\n",
    "    m_order=1,\n",
    "    d_grating=1/150.,\n",
    "    x_pixel=16e-3,\n",
    ")\n",
    "\n",
    "result = least_squares(fit_residual, initial_guess, kwargs=kwargs)\n"
   ]
  },
  {
   "cell_type": "markdown",
   "metadata": {},
   "source": [
    "# Old Version "
   ]
  },
  {
   "cell_type": "code",
   "execution_count": null,
   "metadata": {
    "collapsed": true
   },
   "outputs": [],
   "source": [
    "from lmfit import Parameters, minimize"
   ]
  },
  {
   "cell_type": "code",
   "execution_count": 2,
   "metadata": {
    "collapsed": true
   },
   "outputs": [],
   "source": [
    "offset_data = np.array([\n",
    "[0,     5.1940],\n",
    "[435.8, 441.0860],\n",
    "[546.1, 551.3630],\n",
    "[610.8, 616.2860],\n",
    "[809.4, 814.4940],\n",
    "])"
   ]
  },
  {
   "cell_type": "code",
   "execution_count": 3,
   "metadata": {
    "collapsed": false
   },
   "outputs": [
    {
     "data": {
      "text/plain": [
       "[<matplotlib.lines.Line2D at 0x119c06f60>]"
      ]
     },
     "execution_count": 3,
     "metadata": {},
     "output_type": "execute_result"
    },
    {
     "data": {
      "image/png": "[encoded data removed]",
      "text/plain": [
       "<matplotlib.figure.Figure at 0x11685cf28>"
      ]
     },
     "metadata": {},
     "output_type": "display_data"
    }
   ],
   "source": [
    "pl.plot(offset_data[:,0], offset_data[:,1], 'x-')"
   ]
  },
  {
   "cell_type": "code",
   "execution_count": 5,
   "metadata": {
    "collapsed": false
   },
   "outputs": [
    {
     "name": "stdout",
     "output_type": "stream",
     "text": [
      "-5.2646 nm\n"
     ]
    }
   ],
   "source": [
    "wl_offset = np.average(offset_data[:,0]-offset_data[:,1])\n",
    "print(wl_offset, \"nm\")"
   ]
  },
  {
   "cell_type": "markdown",
   "metadata": {},
   "source": [
    "\n",
    "Dispersion\n",
    "\n",
    "809.4, R, 508, 729.4910\n",
    "\n",
    "809.4, L, 004, 899.5830\n",
    "\n",
    "610.8, R, 508, 531.0920\n",
    "\n",
    "610.8, L, 004, 701.9610\n",
    "\n",
    "\n",
    "435.8, R, 508, 354.9880\n",
    "\n",
    "435.8, L, 004, 526.9880\n"
   ]
  },
  {
   "cell_type": "code",
   "execution_count": 6,
   "metadata": {
    "collapsed": false
   },
   "outputs": [
    {
     "data": {
      "text/plain": [
       "{'n': array([ 252., -252.,  252., -252.,  252., -252.]),\n",
       " 'wl': array([ 0.00072423,  0.00089432,  0.00052583,  0.0006967 ,  0.00034972,\n",
       "         0.00052172]),\n",
       " 'wl_p': array([ 0.0008094,  0.0008094,  0.0006108,  0.0006108,  0.0004358,\n",
       "         0.0004358])}"
      ]
     },
     "execution_count": 6,
     "metadata": {},
     "output_type": "execute_result"
    }
   ],
   "source": [
    "D = dispersion_data = np.array([\n",
    "[809.4, 508, 729.4910],\n",
    "[809.4, 4, 899.5830],\n",
    "[610.8, 508, 531.0920],\n",
    "[610.8, 4, 701.9610],\n",
    "[435.8, 508, 354.9880],\n",
    "[435.8, 4, 526.9880]\n",
    "])\n",
    "data  = dict(\n",
    "    wl = 1e-6*(D[:,2] + wl_offset),\n",
    "    n  = D[:,1] - 256,\n",
    "    wl_p = 1e-6*D[:,0],\n",
    ")\n",
    "\n",
    "data"
   ]
  },
  {
   "cell_type": "code",
   "execution_count": 86,
   "metadata": {
    "collapsed": true
   },
   "outputs": [],
   "source": [
    "\n",
    "def wl_p_func(wl_center, n, f, delta, gamma):\n",
    "    #consts\n",
    "    d_grating = 1./150. #mm\n",
    "    x_pixel   = 16e-3 # mm\n",
    "    m_order   = 1 # diffraction order, unitless\n",
    "\n",
    "    psi = np.arcsin( m_order* wl_center / (2*d_grating*np.cos(gamma/2)))\n",
    "    eta = np.arctan(n*x_pixel*np.cos(delta) / (f+n*x_pixel*np.sin(delta)))\n",
    "\n",
    "    return ((d_grating/m_order)\n",
    "                    *(np.sin(psi-0.5*gamma)\n",
    "                      + np.sin(psi+0.5*gamma+eta)))\n",
    "\n",
    "def residual(wl_center, wl_p, n, f, delta, gamma):\n",
    "\n",
    "    #print 'wl_center', wl_center.shape\n",
    "    #print 'psi', psi.shape\n",
    "    #print 'eta', eta.shape\n",
    "    \n",
    "    residual = -wl_p + wl_p_func(wl_center, n, f, delta, gamma)\n",
    "    return residual\n"
   ]
  },
  {
   "cell_type": "code",
   "execution_count": 90,
   "metadata": {
    "collapsed": false
   },
   "outputs": [
    {
     "name": "stdout",
     "output_type": "stream",
     "text": [
      "True Tolerance seems to be too small.\n",
      "[<Parameter 'f', value=293.49670609146182 +/- 13.6, bounds=[-inf:inf]>,\n",
      " <Parameter 'delta', value=0.070372962086993743 +/- 0.134, bounds=[-inf:inf]>,\n",
      " <Parameter 'gamma', value=0.62226390460467274 +/- 0.239, bounds=[-inf:inf]>]\n"
     ]
    }
   ],
   "source": [
    "def residual_lmfit(params, x, data):\n",
    "    f = params['f'].value\n",
    "    delta = params['delta'].value\n",
    "    gamma = params['gamma'].value\n",
    "    \n",
    "    wl = data['wl']\n",
    "    wl_p = data['wl_p']\n",
    "    n = data['n']\n",
    "    \n",
    "    return residual(wl, wl_p, n, f, delta, gamma)\n",
    "\n",
    "\n",
    "params = Parameters()\n",
    "params.add('f', value=300, vary=True)#, min=280, max=320, vary=True)\n",
    "params.add('delta', value=0)#, min=-np.pi/8, max=np.pi/8, vary=True)\n",
    "params.add('gamma', value=np.pi/6)#, min=0, max=np.pi/4, vary=True)\n",
    "\n",
    "\n",
    "result = minimize(residual_lmfit, params, args=(0,data,))\n",
    "\n",
    "print result.success, result.message\n",
    "pprint(params.values())"
   ]
  },
  {
   "cell_type": "code",
   "execution_count": 38,
   "metadata": {
    "collapsed": true
   },
   "outputs": [],
   "source": [
    "\n"
   ]
  },
  {
   "cell_type": "code",
   "execution_count": 48,
   "metadata": {
    "collapsed": false
   },
   "outputs": [
    {
     "data": {
      "text/plain": [
       "1.3349916626548182"
      ]
     },
     "execution_count": 48,
     "metadata": {},
     "output_type": "execute_result"
    }
   ],
   "source": [
    "180*0.0233/np.pi"
   ]
  },
  {
   "cell_type": "code",
   "execution_count": 79,
   "metadata": {
    "collapsed": false
   },
   "outputs": [
    {
     "data": {
      "text/plain": [
       "[<matplotlib.lines.Line2D at 0x15d644e0>]"
      ]
     },
     "execution_count": 79,
     "metadata": {},
     "output_type": "execute_result"
    },
    {
     "data": {
      "image/png": "[encoded data removed]",
      "text/plain": [
       "<matplotlib.figure.Figure at 0x1530c6d8>"
      ]
     },
     "metadata": {},
     "output_type": "display_data"
    }
   ],
   "source": [
    "f_array = np.linspace(280,320, 20)\n",
    "delta = 0\n",
    "gamma = np.pi/6.\n",
    "pl.plot(f_array, \n",
    "            [np.sum((residual(data['wl'], data['wl_p'], data['n'], \n",
    "                              f, delta, gamma))**2)\n",
    "             for f in f_array])"
   ]
  },
  {
   "cell_type": "code",
   "execution_count": 76,
   "metadata": {
    "collapsed": false
   },
   "outputs": [
    {
     "data": {
      "text/plain": [
       "[<matplotlib.lines.Line2D at 0x15d4d198>]"
      ]
     },
     "execution_count": 76,
     "metadata": {},
     "output_type": "execute_result"
    },
    {
     "data": {
      "image/png": "[encoded data removed]",
      "text/plain": [
       "<matplotlib.figure.Figure at 0x15b51d30>"
      ]
     },
     "metadata": {},
     "output_type": "display_data"
    },
    {
     "data": {
      "image/png": "[encoded data removed]",
      "text/plain": [
       "<matplotlib.figure.Figure at 0x153635f8>"
      ]
     },
     "metadata": {},
     "output_type": "display_data"
    }
   ],
   "source": [
    "f = params['f'].value\n",
    "delta = params['delta'].value\n",
    "gamma = params['gamma'].value\n",
    "\n",
    "pixels = np.arange(-256,256)\n",
    "#print wl_p_func(750e-6, pixels, f, delta, gamma)*1e6\n",
    "\n",
    "pl.plot( pixels, wl_p_func((750e-6, pixels, f, delta, gamma)*1e6)\n",
    "pl.figure()\n",
    "pl.plot( pixels[:-1], np.diff(wl_p_func(750e-6, pixels, f, delta, gamma)*1e6))\n",
    "\n"
   ]
  }
 ],
 "metadata": {
  "kernelspec": {
   "display_name": "Python 2",
   "language": "python",
   "name": "python2"
  },
  "language_info": {
   "codemirror_mode": {
    "name": "ipython",
    "version": 2
   },
   "file_extension": ".py",
   "mimetype": "text/x-python",
   "name": "python",
   "nbconvert_exporter": "python",
   "pygments_lexer": "ipython2",
   "version": "2.7.12"
  }
 },
 "nbformat": 4,
 "nbformat_minor": 1
}
